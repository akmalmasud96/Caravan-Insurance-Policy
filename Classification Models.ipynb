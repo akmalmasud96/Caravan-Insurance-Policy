{
 "cells": [
  {
   "cell_type": "markdown",
   "metadata": {},
   "source": [
    "### Import Libraries"
   ]
  },
  {
   "cell_type": "code",
   "execution_count": 1,
   "metadata": {},
   "outputs": [],
   "source": [
    "#conda install -c glemaitre imbalanced-learn\n",
    "#pip install mlxtend  \n"
   ]
  },
  {
   "cell_type": "code",
   "execution_count": 2,
   "metadata": {},
   "outputs": [],
   "source": [
    "import pandas as pd \n",
    "import seaborn as sns\n",
    "import matplotlib.pyplot as plt\n",
    "from imblearn.over_sampling import RandomOverSampler\n",
    "from sklearn.linear_model import LogisticRegression\n",
    "from sklearn.model_selection import GridSearchCV\n",
    "from mlxtend.plotting import plot_confusion_matrix\n",
    "from sklearn.metrics import confusion_matrix \n",
    "from sklearn.metrics import classification_report\n",
    "from sklearn.metrics import fbeta_score"
   ]
  },
  {
   "cell_type": "code",
   "execution_count": 3,
   "metadata": {},
   "outputs": [],
   "source": [
    "import warnings\n",
    "warnings.filterwarnings('ignore')"
   ]
  },
  {
   "cell_type": "markdown",
   "metadata": {},
   "source": [
    "### Read Data"
   ]
  },
  {
   "cell_type": "code",
   "execution_count": 4,
   "metadata": {},
   "outputs": [],
   "source": [
    "training_data = pd.read_csv('ticdata2000.txt', sep=\"\\t\", header=None)"
   ]
  },
  {
   "cell_type": "markdown",
   "metadata": {},
   "source": [
    "##### Dimensions of Data"
   ]
  },
  {
   "cell_type": "code",
   "execution_count": 5,
   "metadata": {},
   "outputs": [
    {
     "data": {
      "text/plain": [
       "(5822, 86)"
      ]
     },
     "execution_count": 5,
     "metadata": {},
     "output_type": "execute_result"
    }
   ],
   "source": [
    "training_data.shape"
   ]
  },
  {
   "cell_type": "markdown",
   "metadata": {},
   "source": [
    "##### Peak at the Data"
   ]
  },
  {
   "cell_type": "code",
   "execution_count": 6,
   "metadata": {},
   "outputs": [
    {
     "data": {
      "text/html": [
       "<div>\n",
       "<style scoped>\n",
       "    .dataframe tbody tr th:only-of-type {\n",
       "        vertical-align: middle;\n",
       "    }\n",
       "\n",
       "    .dataframe tbody tr th {\n",
       "        vertical-align: top;\n",
       "    }\n",
       "\n",
       "    .dataframe thead th {\n",
       "        text-align: right;\n",
       "    }\n",
       "</style>\n",
       "<table border=\"1\" class=\"dataframe\">\n",
       "  <thead>\n",
       "    <tr style=\"text-align: right;\">\n",
       "      <th></th>\n",
       "      <th>0</th>\n",
       "      <th>1</th>\n",
       "      <th>2</th>\n",
       "      <th>3</th>\n",
       "      <th>4</th>\n",
       "      <th>5</th>\n",
       "      <th>6</th>\n",
       "      <th>7</th>\n",
       "      <th>8</th>\n",
       "      <th>9</th>\n",
       "      <th>...</th>\n",
       "      <th>76</th>\n",
       "      <th>77</th>\n",
       "      <th>78</th>\n",
       "      <th>79</th>\n",
       "      <th>80</th>\n",
       "      <th>81</th>\n",
       "      <th>82</th>\n",
       "      <th>83</th>\n",
       "      <th>84</th>\n",
       "      <th>85</th>\n",
       "    </tr>\n",
       "  </thead>\n",
       "  <tbody>\n",
       "    <tr>\n",
       "      <td>0</td>\n",
       "      <td>33</td>\n",
       "      <td>1</td>\n",
       "      <td>3</td>\n",
       "      <td>2</td>\n",
       "      <td>8</td>\n",
       "      <td>0</td>\n",
       "      <td>5</td>\n",
       "      <td>1</td>\n",
       "      <td>3</td>\n",
       "      <td>7</td>\n",
       "      <td>...</td>\n",
       "      <td>0</td>\n",
       "      <td>0</td>\n",
       "      <td>0</td>\n",
       "      <td>1</td>\n",
       "      <td>0</td>\n",
       "      <td>0</td>\n",
       "      <td>0</td>\n",
       "      <td>0</td>\n",
       "      <td>0</td>\n",
       "      <td>0</td>\n",
       "    </tr>\n",
       "    <tr>\n",
       "      <td>1</td>\n",
       "      <td>37</td>\n",
       "      <td>1</td>\n",
       "      <td>2</td>\n",
       "      <td>2</td>\n",
       "      <td>8</td>\n",
       "      <td>1</td>\n",
       "      <td>4</td>\n",
       "      <td>1</td>\n",
       "      <td>4</td>\n",
       "      <td>6</td>\n",
       "      <td>...</td>\n",
       "      <td>0</td>\n",
       "      <td>0</td>\n",
       "      <td>0</td>\n",
       "      <td>1</td>\n",
       "      <td>0</td>\n",
       "      <td>0</td>\n",
       "      <td>0</td>\n",
       "      <td>0</td>\n",
       "      <td>0</td>\n",
       "      <td>0</td>\n",
       "    </tr>\n",
       "    <tr>\n",
       "      <td>2</td>\n",
       "      <td>37</td>\n",
       "      <td>1</td>\n",
       "      <td>2</td>\n",
       "      <td>2</td>\n",
       "      <td>8</td>\n",
       "      <td>0</td>\n",
       "      <td>4</td>\n",
       "      <td>2</td>\n",
       "      <td>4</td>\n",
       "      <td>3</td>\n",
       "      <td>...</td>\n",
       "      <td>0</td>\n",
       "      <td>0</td>\n",
       "      <td>0</td>\n",
       "      <td>1</td>\n",
       "      <td>0</td>\n",
       "      <td>0</td>\n",
       "      <td>0</td>\n",
       "      <td>0</td>\n",
       "      <td>0</td>\n",
       "      <td>0</td>\n",
       "    </tr>\n",
       "    <tr>\n",
       "      <td>3</td>\n",
       "      <td>9</td>\n",
       "      <td>1</td>\n",
       "      <td>3</td>\n",
       "      <td>3</td>\n",
       "      <td>3</td>\n",
       "      <td>2</td>\n",
       "      <td>3</td>\n",
       "      <td>2</td>\n",
       "      <td>4</td>\n",
       "      <td>5</td>\n",
       "      <td>...</td>\n",
       "      <td>0</td>\n",
       "      <td>0</td>\n",
       "      <td>0</td>\n",
       "      <td>1</td>\n",
       "      <td>0</td>\n",
       "      <td>0</td>\n",
       "      <td>0</td>\n",
       "      <td>0</td>\n",
       "      <td>0</td>\n",
       "      <td>0</td>\n",
       "    </tr>\n",
       "    <tr>\n",
       "      <td>4</td>\n",
       "      <td>40</td>\n",
       "      <td>1</td>\n",
       "      <td>4</td>\n",
       "      <td>2</td>\n",
       "      <td>10</td>\n",
       "      <td>1</td>\n",
       "      <td>4</td>\n",
       "      <td>1</td>\n",
       "      <td>4</td>\n",
       "      <td>7</td>\n",
       "      <td>...</td>\n",
       "      <td>0</td>\n",
       "      <td>0</td>\n",
       "      <td>0</td>\n",
       "      <td>1</td>\n",
       "      <td>0</td>\n",
       "      <td>0</td>\n",
       "      <td>0</td>\n",
       "      <td>0</td>\n",
       "      <td>0</td>\n",
       "      <td>0</td>\n",
       "    </tr>\n",
       "  </tbody>\n",
       "</table>\n",
       "<p>5 rows × 86 columns</p>\n",
       "</div>"
      ],
      "text/plain": [
       "   0   1   2   3   4   5   6   7   8   9   ...  76  77  78  79  80  81  82  \\\n",
       "0  33   1   3   2   8   0   5   1   3   7  ...   0   0   0   1   0   0   0   \n",
       "1  37   1   2   2   8   1   4   1   4   6  ...   0   0   0   1   0   0   0   \n",
       "2  37   1   2   2   8   0   4   2   4   3  ...   0   0   0   1   0   0   0   \n",
       "3   9   1   3   3   3   2   3   2   4   5  ...   0   0   0   1   0   0   0   \n",
       "4  40   1   4   2  10   1   4   1   4   7  ...   0   0   0   1   0   0   0   \n",
       "\n",
       "   83  84  85  \n",
       "0   0   0   0  \n",
       "1   0   0   0  \n",
       "2   0   0   0  \n",
       "3   0   0   0  \n",
       "4   0   0   0  \n",
       "\n",
       "[5 rows x 86 columns]"
      ]
     },
     "execution_count": 6,
     "metadata": {},
     "output_type": "execute_result"
    }
   ],
   "source": [
    "training_data.head()"
   ]
  },
  {
   "cell_type": "code",
   "execution_count": 7,
   "metadata": {},
   "outputs": [
    {
     "data": {
      "text/html": [
       "<div>\n",
       "<style scoped>\n",
       "    .dataframe tbody tr th:only-of-type {\n",
       "        vertical-align: middle;\n",
       "    }\n",
       "\n",
       "    .dataframe tbody tr th {\n",
       "        vertical-align: top;\n",
       "    }\n",
       "\n",
       "    .dataframe thead th {\n",
       "        text-align: right;\n",
       "    }\n",
       "</style>\n",
       "<table border=\"1\" class=\"dataframe\">\n",
       "  <thead>\n",
       "    <tr style=\"text-align: right;\">\n",
       "      <th></th>\n",
       "      <th>0</th>\n",
       "      <th>1</th>\n",
       "      <th>2</th>\n",
       "      <th>3</th>\n",
       "      <th>4</th>\n",
       "      <th>5</th>\n",
       "      <th>6</th>\n",
       "      <th>7</th>\n",
       "      <th>8</th>\n",
       "      <th>9</th>\n",
       "      <th>...</th>\n",
       "      <th>76</th>\n",
       "      <th>77</th>\n",
       "      <th>78</th>\n",
       "      <th>79</th>\n",
       "      <th>80</th>\n",
       "      <th>81</th>\n",
       "      <th>82</th>\n",
       "      <th>83</th>\n",
       "      <th>84</th>\n",
       "      <th>85</th>\n",
       "    </tr>\n",
       "  </thead>\n",
       "  <tbody>\n",
       "    <tr>\n",
       "      <td>5817</td>\n",
       "      <td>36</td>\n",
       "      <td>1</td>\n",
       "      <td>1</td>\n",
       "      <td>2</td>\n",
       "      <td>8</td>\n",
       "      <td>0</td>\n",
       "      <td>6</td>\n",
       "      <td>1</td>\n",
       "      <td>2</td>\n",
       "      <td>1</td>\n",
       "      <td>...</td>\n",
       "      <td>0</td>\n",
       "      <td>0</td>\n",
       "      <td>0</td>\n",
       "      <td>1</td>\n",
       "      <td>0</td>\n",
       "      <td>0</td>\n",
       "      <td>0</td>\n",
       "      <td>0</td>\n",
       "      <td>0</td>\n",
       "      <td>0</td>\n",
       "    </tr>\n",
       "    <tr>\n",
       "      <td>5818</td>\n",
       "      <td>35</td>\n",
       "      <td>1</td>\n",
       "      <td>4</td>\n",
       "      <td>4</td>\n",
       "      <td>8</td>\n",
       "      <td>1</td>\n",
       "      <td>4</td>\n",
       "      <td>1</td>\n",
       "      <td>4</td>\n",
       "      <td>6</td>\n",
       "      <td>...</td>\n",
       "      <td>0</td>\n",
       "      <td>0</td>\n",
       "      <td>0</td>\n",
       "      <td>1</td>\n",
       "      <td>0</td>\n",
       "      <td>0</td>\n",
       "      <td>0</td>\n",
       "      <td>0</td>\n",
       "      <td>0</td>\n",
       "      <td>0</td>\n",
       "    </tr>\n",
       "    <tr>\n",
       "      <td>5819</td>\n",
       "      <td>33</td>\n",
       "      <td>1</td>\n",
       "      <td>3</td>\n",
       "      <td>4</td>\n",
       "      <td>8</td>\n",
       "      <td>0</td>\n",
       "      <td>6</td>\n",
       "      <td>0</td>\n",
       "      <td>3</td>\n",
       "      <td>5</td>\n",
       "      <td>...</td>\n",
       "      <td>0</td>\n",
       "      <td>0</td>\n",
       "      <td>0</td>\n",
       "      <td>1</td>\n",
       "      <td>0</td>\n",
       "      <td>0</td>\n",
       "      <td>0</td>\n",
       "      <td>0</td>\n",
       "      <td>0</td>\n",
       "      <td>1</td>\n",
       "    </tr>\n",
       "    <tr>\n",
       "      <td>5820</td>\n",
       "      <td>34</td>\n",
       "      <td>1</td>\n",
       "      <td>3</td>\n",
       "      <td>2</td>\n",
       "      <td>8</td>\n",
       "      <td>0</td>\n",
       "      <td>7</td>\n",
       "      <td>0</td>\n",
       "      <td>2</td>\n",
       "      <td>7</td>\n",
       "      <td>...</td>\n",
       "      <td>0</td>\n",
       "      <td>0</td>\n",
       "      <td>0</td>\n",
       "      <td>0</td>\n",
       "      <td>0</td>\n",
       "      <td>0</td>\n",
       "      <td>0</td>\n",
       "      <td>0</td>\n",
       "      <td>0</td>\n",
       "      <td>0</td>\n",
       "    </tr>\n",
       "    <tr>\n",
       "      <td>5821</td>\n",
       "      <td>33</td>\n",
       "      <td>1</td>\n",
       "      <td>3</td>\n",
       "      <td>3</td>\n",
       "      <td>8</td>\n",
       "      <td>0</td>\n",
       "      <td>6</td>\n",
       "      <td>1</td>\n",
       "      <td>2</td>\n",
       "      <td>7</td>\n",
       "      <td>...</td>\n",
       "      <td>0</td>\n",
       "      <td>0</td>\n",
       "      <td>0</td>\n",
       "      <td>0</td>\n",
       "      <td>0</td>\n",
       "      <td>0</td>\n",
       "      <td>0</td>\n",
       "      <td>0</td>\n",
       "      <td>0</td>\n",
       "      <td>0</td>\n",
       "    </tr>\n",
       "  </tbody>\n",
       "</table>\n",
       "<p>5 rows × 86 columns</p>\n",
       "</div>"
      ],
      "text/plain": [
       "      0   1   2   3   4   5   6   7   8   9   ...  76  77  78  79  80  81  82  \\\n",
       "5817  36   1   1   2   8   0   6   1   2   1  ...   0   0   0   1   0   0   0   \n",
       "5818  35   1   4   4   8   1   4   1   4   6  ...   0   0   0   1   0   0   0   \n",
       "5819  33   1   3   4   8   0   6   0   3   5  ...   0   0   0   1   0   0   0   \n",
       "5820  34   1   3   2   8   0   7   0   2   7  ...   0   0   0   0   0   0   0   \n",
       "5821  33   1   3   3   8   0   6   1   2   7  ...   0   0   0   0   0   0   0   \n",
       "\n",
       "      83  84  85  \n",
       "5817   0   0   0  \n",
       "5818   0   0   0  \n",
       "5819   0   0   1  \n",
       "5820   0   0   0  \n",
       "5821   0   0   0  \n",
       "\n",
       "[5 rows x 86 columns]"
      ]
     },
     "execution_count": 7,
     "metadata": {},
     "output_type": "execute_result"
    }
   ],
   "source": [
    "training_data.tail()"
   ]
  },
  {
   "cell_type": "markdown",
   "metadata": {},
   "source": [
    "##### Data types of Attributes"
   ]
  },
  {
   "cell_type": "code",
   "execution_count": 8,
   "metadata": {},
   "outputs": [
    {
     "data": {
      "text/plain": [
       "0     int64\n",
       "1     int64\n",
       "2     int64\n",
       "3     int64\n",
       "4     int64\n",
       "      ...  \n",
       "81    int64\n",
       "82    int64\n",
       "83    int64\n",
       "84    int64\n",
       "85    int64\n",
       "Length: 86, dtype: object"
      ]
     },
     "execution_count": 8,
     "metadata": {},
     "output_type": "execute_result"
    }
   ],
   "source": [
    "training_data.dtypes"
   ]
  },
  {
   "cell_type": "markdown",
   "metadata": {},
   "source": [
    "##### Check Duplicate Reacodes"
   ]
  },
  {
   "cell_type": "code",
   "execution_count": 9,
   "metadata": {},
   "outputs": [
    {
     "data": {
      "text/plain": [
       "602"
      ]
     },
     "execution_count": 9,
     "metadata": {},
     "output_type": "execute_result"
    }
   ],
   "source": [
    "training_data.duplicated().sum()"
   ]
  },
  {
   "cell_type": "code",
   "execution_count": 10,
   "metadata": {},
   "outputs": [],
   "source": [
    "#Remove duplicate recode\n",
    "training_data.drop_duplicates(keep='first',inplace=True) # drop duplicates and kepp one of them"
   ]
  },
  {
   "cell_type": "code",
   "execution_count": 11,
   "metadata": {},
   "outputs": [
    {
     "data": {
      "text/plain": [
       "0"
      ]
     },
     "execution_count": 11,
     "metadata": {},
     "output_type": "execute_result"
    }
   ],
   "source": [
    "training_data.duplicated().sum()"
   ]
  },
  {
   "cell_type": "markdown",
   "metadata": {},
   "source": [
    "##### Check Null Values"
   ]
  },
  {
   "cell_type": "code",
   "execution_count": 12,
   "metadata": {},
   "outputs": [
    {
     "data": {
      "text/plain": [
       "0     0\n",
       "1     0\n",
       "2     0\n",
       "3     0\n",
       "4     0\n",
       "     ..\n",
       "81    0\n",
       "82    0\n",
       "83    0\n",
       "84    0\n",
       "85    0\n",
       "Length: 86, dtype: int64"
      ]
     },
     "execution_count": 12,
     "metadata": {},
     "output_type": "execute_result"
    }
   ],
   "source": [
    "training_data.isnull().sum()"
   ]
  },
  {
   "cell_type": "markdown",
   "metadata": {},
   "source": [
    "##### Distribution of Classes"
   ]
  },
  {
   "cell_type": "code",
   "execution_count": 13,
   "metadata": {},
   "outputs": [
    {
     "data": {
      "text/plain": [
       "0    4880\n",
       "1     340\n",
       "Name: 85, dtype: int64"
      ]
     },
     "execution_count": 13,
     "metadata": {},
     "output_type": "execute_result"
    }
   ],
   "source": [
    "training_data[85].value_counts()"
   ]
  },
  {
   "cell_type": "code",
   "execution_count": 14,
   "metadata": {},
   "outputs": [
    {
     "data": {
      "text/plain": [
       "<matplotlib.axes._subplots.AxesSubplot at 0x2e965b2e248>"
      ]
     },
     "execution_count": 14,
     "metadata": {},
     "output_type": "execute_result"
    },
    {
     "data": {
      "image/png": "[encoded data removed]",
      "text/plain": [
       "<Figure size 432x288 with 1 Axes>"
      ]
     },
     "metadata": {
      "needs_background": "light"
     },
     "output_type": "display_data"
    }
   ],
   "source": [
    "sns.countplot(x=85,data=training_data,palette='coolwarm')"
   ]
  },
  {
   "cell_type": "markdown",
   "metadata": {},
   "source": [
    "Our Classes Distribution is not good. We need to handle it with Oversampling or undersampling."
   ]
  },
  {
   "cell_type": "markdown",
   "metadata": {},
   "source": [
    "#### Oversampling of underrepresented class"
   ]
  },
  {
   "cell_type": "code",
   "execution_count": 15,
   "metadata": {},
   "outputs": [],
   "source": [
    "X_train = training_data.drop([85],axis=1) # training features\n",
    "y_train = training_data[85] # training labels"
   ]
  },
  {
   "cell_type": "code",
   "execution_count": 16,
   "metadata": {},
   "outputs": [],
   "source": [
    "ros = RandomOverSampler(random_state=0) # creating object  of RandomOverSampler\n",
    "X_train, y_train = ros.fit_sample(X_train, y_train) # creating new samples for class 1."
   ]
  },
  {
   "cell_type": "markdown",
   "metadata": {},
   "source": [
    "### Feature Selection"
   ]
  },
  {
   "cell_type": "markdown",
   "metadata": {},
   "source": [
    "We need to select 10 best features according to our understanding on data. Important features are those features that have strong relationship with output variable. Some important features must be what are ages of customers, what types of customers, what are the incomes of customers, what are professions of cutomers and which insurance they all ready buys. \n",
    "\n",
    "Let's use statistical method for finding top 10 features."
   ]
  },
  {
   "cell_type": "markdown",
   "metadata": {},
   "source": [
    "##### Univariate Selection Method"
   ]
  },
  {
   "cell_type": "markdown",
   "metadata": {},
   "source": [
    "Statistical tests can be used to select those features that have the strongest relationship with the output variable."
   ]
  },
  {
   "cell_type": "code",
   "execution_count": 1,
   "metadata": {},
   "outputs": [],
   "source": [
    "from sklearn.feature_selection import SelectKBest\n",
    "from sklearn.feature_selection import chi2"
   ]
  },
  {
   "cell_type": "code",
   "execution_count": 2,
   "metadata": {},
   "outputs": [
    {
     "ename": "NameError",
     "evalue": "name 'X_train' is not defined",
     "output_type": "error",
     "traceback": [
      "\u001b[1;31m---------------------------------------------------------------------------\u001b[0m",
      "\u001b[1;31mNameError\u001b[0m                                 Traceback (most recent call last)",
      "\u001b[1;32m<ipython-input-2-f6852a91c570>\u001b[0m in \u001b[0;36m<module>\u001b[1;34m\u001b[0m\n\u001b[0;32m      1\u001b[0m \u001b[1;31m#apply SelectKBest class to extract top 10 best features\u001b[0m\u001b[1;33m\u001b[0m\u001b[1;33m\u001b[0m\u001b[1;33m\u001b[0m\u001b[0m\n\u001b[0;32m      2\u001b[0m \u001b[0mtop_features\u001b[0m \u001b[1;33m=\u001b[0m \u001b[0mSelectKBest\u001b[0m\u001b[1;33m(\u001b[0m\u001b[0mscore_func\u001b[0m\u001b[1;33m=\u001b[0m\u001b[0mchi2\u001b[0m\u001b[1;33m,\u001b[0m \u001b[0mk\u001b[0m\u001b[1;33m=\u001b[0m\u001b[1;36m10\u001b[0m\u001b[1;33m)\u001b[0m \u001b[1;31m# creating object\u001b[0m\u001b[1;33m\u001b[0m\u001b[1;33m\u001b[0m\u001b[0m\n\u001b[1;32m----> 3\u001b[1;33m \u001b[0mselect_k_best\u001b[0m \u001b[1;33m=\u001b[0m \u001b[0mtop_features\u001b[0m\u001b[1;33m.\u001b[0m\u001b[0mfit\u001b[0m\u001b[1;33m(\u001b[0m\u001b[0mX_train\u001b[0m\u001b[1;33m,\u001b[0m\u001b[0my_train\u001b[0m\u001b[1;33m)\u001b[0m \u001b[1;31m# calling fit function for finding important features\u001b[0m\u001b[1;33m\u001b[0m\u001b[1;33m\u001b[0m\u001b[0m\n\u001b[0m",
      "\u001b[1;31mNameError\u001b[0m: name 'X_train' is not defined"
     ]
    }
   ],
   "source": [
    "#apply SelectKBest class to extract top 10 best features\n",
    "top_features = SelectKBest(score_func=chi2, k=10) # creating object \n",
    "select_k_best = top_features.fit(X_train,y_train) # calling fit function for finding important features\n",
    "df_scores = pd.DataFrame(select_k_best.scores_)\n",
    "df_scores.columns = ['Score']  #naming the dataframe columns\n",
    "print(df_scores.nlargest(10,'Score'))  #print 10 best features"
   ]
  },
  {
   "cell_type": "markdown",
   "metadata": {},
   "source": [
    "Important features are:\n",
    "\n",
    "1) Customer Subtype 2) High level education 3) Rented house 4) Home owners 5) Contribution car policies\n",
    "6) Contribution fire policies 7) Number of car policies 8) Lower level education\n",
    "9) Income < 30.000 10) Contribution boat policies\n",
    "\n",
    "Let's Visulize some of them"
   ]
  },
  {
   "cell_type": "markdown",
   "metadata": {},
   "source": [
    "#### Dependency of prefering caravan policy based on customer subtype"
   ]
  },
  {
   "cell_type": "code",
   "execution_count": 19,
   "metadata": {},
   "outputs": [
    {
     "data": {
      "text/plain": [
       "Text(0, 0.5, 'Caravan or not')"
      ]
     },
     "execution_count": 19,
     "metadata": {},
     "output_type": "execute_result"
    },
    {
     "data": {
      "image/png": "[encoded data removed]",
      "text/plain": [
       "<Figure size 576x360 with 1 Axes>"
      ]
     },
     "metadata": {
      "needs_background": "light"
     },
     "output_type": "display_data"
    }
   ],
   "source": [
    "customer_subtype_caravan = pd.crosstab(training_data[0], training_data[85]) # this will gives us counting of caravan policy for each customer subtype \n",
    "customer_subtype_caravan_pct = customer_subtype_caravan.div(customer_subtype_caravan.sum(1).astype(float), axis=0) # for getting value between 0 and 1\n",
    "customer_subtype_caravan_pct.plot(figsize= (8,5), kind='bar', stacked=True, color=['steelblue', 'springgreen'], title='Cumstomer subtype vs Caravan', grid=True)\n",
    "plt.xlabel('Cutomer subtype')\n",
    "plt.ylabel('Caravan or not')"
   ]
  },
  {
   "cell_type": "markdown",
   "metadata": {},
   "source": [
    "#### Dependency of prefering caravan policy based on fire policies"
   ]
  },
  {
   "cell_type": "code",
   "execution_count": 20,
   "metadata": {},
   "outputs": [
    {
     "data": {
      "text/plain": [
       "Text(0, 0.5, 'Caravan')"
      ]
     },
     "execution_count": 20,
     "metadata": {},
     "output_type": "execute_result"
    },
    {
     "data": {
      "image/png": "[encoded data removed]",
      "text/plain": [
       "<Figure size 360x216 with 1 Axes>"
      ]
     },
     "metadata": {
      "needs_background": "light"
     },
     "output_type": "display_data"
    }
   ],
   "source": [
    "age_caravan = pd.crosstab(training_data[60], training_data[85])\n",
    "age_caravan_pct = age_caravan.div(age_caravan.sum(1).astype(float),axis=0)\n",
    "age_caravan_pct.plot(figsize=(5,3), kind='bar', stacked=True, color=['steelblue', 'springgreen'], title='dependency of caravan on fire policies', grid=True)\n",
    "plt.xlabel('fire policies')\n",
    "plt.ylabel('Caravan')"
   ]
  },
  {
   "cell_type": "code",
   "execution_count": 21,
   "metadata": {},
   "outputs": [],
   "source": [
    "car_policies = sum( (training_data[85] == 1) & (training_data[67]  != 0)) # counting where car_policies are not zero and also carcaravan policy is 1.\n",
    "fire_policies = sum( (training_data[85] == 1) & (training_data[58]  != 0)) # counting where fire_policies are not zero and also carcaravan policy is 1.\n",
    "High_level_education = sum( (training_data[85] == 1) & (training_data[15]  != 0)) # counting where fire_policies are not zero and also carcaravan policy is 1."
   ]
  },
  {
   "cell_type": "code",
   "execution_count": 22,
   "metadata": {},
   "outputs": [],
   "source": [
    "# creating Dataframe for showing graph\n",
    "df = pd.DataFrame(data =[['Number of car policies','Contribution fire policies','High level education'],[car_policies,fire_policies,High_level_education]])"
   ]
  },
  {
   "cell_type": "code",
   "execution_count": 23,
   "metadata": {},
   "outputs": [],
   "source": [
    "df = df.T # Transpose of dataframe"
   ]
  },
  {
   "cell_type": "code",
   "execution_count": 24,
   "metadata": {},
   "outputs": [
    {
     "data": {
      "text/plain": [
       "<matplotlib.axes._subplots.AxesSubplot at 0x2e96662cfc8>"
      ]
     },
     "execution_count": 24,
     "metadata": {},
     "output_type": "execute_result"
    },
    {
     "data": {
      "image/png": "[encoded data removed]",
      "text/plain": [
       "<Figure size 432x288 with 1 Axes>"
      ]
     },
     "metadata": {
      "needs_background": "light"
     },
     "output_type": "display_data"
    }
   ],
   "source": [
    "sns.barplot(df[0],df[1],data=df,palette='coolwarm') # count of each"
   ]
  },
  {
   "cell_type": "markdown",
   "metadata": {},
   "source": [
    "Data visualizations indicate that the buyers of ‘caravan mobile home insurance’ policies also tend to buy ‘car policies’, boat policies and ‘fire policies’. This is a useful insight for cross-selling the caravan policy to the existing customers of ‘car policies’, boat policies and ‘fire policies’. Moreover, other characteristics of ‘caravan mobile home insurance’ buyers generally include ‘High level education’,'Low level of Education' and Income < 30.000."
   ]
  },
  {
   "cell_type": "markdown",
   "metadata": {},
   "source": [
    "##### Train Test"
   ]
  },
  {
   "cell_type": "code",
   "execution_count": 27,
   "metadata": {},
   "outputs": [],
   "source": [
    "X_test = pd.read_csv('Ticeval2000.txt', sep=\"\\t\", header=None)\n",
    "y_test = pd.read_csv('tictgts2000.txt', sep=\"\\t\", header=None)"
   ]
  },
  {
   "cell_type": "markdown",
   "metadata": {},
   "source": [
    "##### Logistic Regression"
   ]
  },
  {
   "cell_type": "code",
   "execution_count": 31,
   "metadata": {},
   "outputs": [],
   "source": [
    "param_grid = {'C':[0.01,0.1,1,2,3]} # Grid Search Parameter"
   ]
  },
  {
   "cell_type": "code",
   "execution_count": 32,
   "metadata": {},
   "outputs": [
    {
     "data": {
      "text/plain": [
       "GridSearchCV(cv=5, error_score='raise',\n",
       "       estimator=LogisticRegression(C=1.0, class_weight=None, dual=False, fit_intercept=True,\n",
       "          intercept_scaling=1, max_iter=100, multi_class='ovr', n_jobs=1,\n",
       "          penalty='l1', random_state=None, solver='liblinear', tol=0.0001,\n",
       "          verbose=0, warm_start=False),\n",
       "       fit_params=None, iid=True, n_jobs=-1,\n",
       "       param_grid={'C': [0.01, 0.1, 1, 2, 3, 4]}, pre_dispatch='2*n_jobs',\n",
       "       refit=True, return_train_score='warn', scoring=None, verbose=0)"
      ]
     },
     "execution_count": 32,
     "metadata": {},
     "output_type": "execute_result"
    }
   ],
   "source": [
    "grid_search = GridSearchCV(LogisticRegression(penalty='l1'), param_grid, cv=5 , n_jobs=-1, iid=True) # creating Grid search variable with logistic Regression(L1) and Cross validation is 5.\n",
    "grid_search.fit(X_train, y_train) # fit the model"
   ]
  },
  {
   "cell_type": "markdown",
   "metadata": {},
   "source": [
    "##### Let's Check the Best Parameters We find"
   ]
  },
  {
   "cell_type": "code",
   "execution_count": 35,
   "metadata": {},
   "outputs": [
    {
     "name": "stdout",
     "output_type": "stream",
     "text": [
      "{'C': 2}\n",
      "0.7042008196721311\n"
     ]
    }
   ],
   "source": [
    "print(grid_search.best_params_) # show best value of C we found\n",
    "print(grid_search.best_score_)"
   ]
  },
  {
   "cell_type": "markdown",
   "metadata": {},
   "source": [
    "##### Confusion matrix"
   ]
  },
  {
   "cell_type": "code",
   "execution_count": 34,
   "metadata": {},
   "outputs": [
    {
     "data": {
      "image/png": "[encoded data removed]",
      "text/plain": [
       "<Figure size 432x288 with 1 Axes>"
      ]
     },
     "metadata": {
      "needs_background": "light"
     },
     "output_type": "display_data"
    }
   ],
   "source": [
    "pred=grid_search.predict(X_test) # predict Results\n",
    "cm = confusion_matrix(y_test,pred) # get confusion matrix \n",
    "fig, ax = plot_confusion_matrix(conf_mat=cm,cmap='coolwarm')\n",
    "plt.show()"
   ]
  },
  {
   "cell_type": "markdown",
   "metadata": {},
   "source": [
    "##### F Score"
   ]
  },
  {
   "cell_type": "code",
   "execution_count": 36,
   "metadata": {},
   "outputs": [
    {
     "name": "stdout",
     "output_type": "stream",
     "text": [
      "F-Measure: 0.853\n"
     ]
    }
   ],
   "source": [
    "# calculate score\n",
    "score = fbeta_score(y_test, pred, average='weighted', beta=0.5) # arguments are actual answers and predicted answers\n",
    "print('F-Measure: %.3f' % score)"
   ]
  },
  {
   "cell_type": "markdown",
   "metadata": {},
   "source": [
    "##### ROC Curve"
   ]
  },
  {
   "cell_type": "code",
   "execution_count": 37,
   "metadata": {},
   "outputs": [],
   "source": [
    "from sklearn.metrics import roc_curve\n",
    "from sklearn.metrics import auc"
   ]
  },
  {
   "cell_type": "code",
   "execution_count": 38,
   "metadata": {},
   "outputs": [],
   "source": [
    "probs = grid_search.predict_proba(X_test) # Predict Probabilities of classes\n",
    "preds = probs[:,1] # get probabilies of class 1\n",
    "fpr, tpr, threshold = roc_curve(y_test, preds)\n",
    "roc_auc = auc(fpr, tpr)"
   ]
  },
  {
   "cell_type": "code",
   "execution_count": 39,
   "metadata": {},
   "outputs": [
    {
     "data": {
      "image/png": "[encoded data removed]",
      "text/plain": [
       "<Figure size 432x288 with 1 Axes>"
      ]
     },
     "metadata": {
      "needs_background": "light"
     },
     "output_type": "display_data"
    }
   ],
   "source": [
    "plt.figure()\n",
    "plt.plot(fpr, tpr,label='Logistic Regression (area = {:.3f})'.format(roc_auc))\n",
    "plt.plot([0, 1], [0, 1],'r--')\n",
    "plt.xlabel('False Positive Rate')\n",
    "plt.ylabel('True Positive Rate')\n",
    "plt.title('Receiver operating characteristic')\n",
    "plt.legend(loc=\"lower right\")\n",
    "plt.savefig('Log_ROC')\n",
    "plt.show()"
   ]
  },
  {
   "cell_type": "markdown",
   "metadata": {},
   "source": [
    "Area Under the Curve is good."
   ]
  },
  {
   "cell_type": "markdown",
   "metadata": {},
   "source": [
    "##### Analyze Coefficients"
   ]
  },
  {
   "cell_type": "code",
   "execution_count": 40,
   "metadata": {},
   "outputs": [
    {
     "data": {
      "text/plain": [
       "array([[ 0.02576297, -0.35848752, -0.10429216,  0.26461595, -0.10463258,\n",
       "        -0.04489199,  0.03605799,  0.08742208, -0.02287665,  0.21659832,\n",
       "         0.12000291,  0.07478481, -0.03519653, -0.07490826, -0.00874275,\n",
       "         0.01293899, -0.10488805, -0.24014474,  0.11219424,  0.08687575,\n",
       "        -0.1284098 ,  0.12982751,  0.02842579,  0.06395425,  0.0325125 ,\n",
       "         0.02609443,  0.04329713,  0.20373409,  0.03720354, -1.25966516,\n",
       "        -1.21585697,  0.2350338 ,  0.16184533,  0.15608862, -0.6372379 ,\n",
       "        -0.67979346,  0.12328778,  0.13895432,  0.06403301,  0.07528939,\n",
       "        -0.32845211,  0.18565567,  0.0341255 ,  0.5053525 , -0.38924679,\n",
       "        -0.39833957,  0.20578119,  0.57218434, -0.10537182, -0.82583672,\n",
       "         0.49027378,  0.43911862, -1.37806317,  0.03494187, -0.22718018,\n",
       "        -0.6433253 ,  0.26575252,  1.00370872,  0.31431437, -0.22839509,\n",
       "         0.02211581,  0.49927498, -1.14865132, -0.05840744, -0.76437275,\n",
       "         0.580257  ,  0.        ,  0.05550512, -3.08627287,  0.07648048,\n",
       "         0.        , -0.78453148, -1.58885153,  0.        , -0.93521894,\n",
       "         0.42380378,  0.        ,  0.        , -4.04855195, -0.7915587 ,\n",
       "         0.        ,  2.68297041,  0.10691242,  1.8425156 ,  0.70223348]])"
      ]
     },
     "execution_count": 40,
     "metadata": {},
     "output_type": "execute_result"
    }
   ],
   "source": [
    "grid_search.best_estimator_.coef_"
   ]
  },
  {
   "cell_type": "markdown",
   "metadata": {},
   "source": [
    "Our Selected Features are synch with non-zero coefficients and their Values are more than other coefficients means they effect the results more then other features."
   ]
  },
  {
   "cell_type": "markdown",
   "metadata": {},
   "source": [
    "### Polynomial features with polynomial features"
   ]
  },
  {
   "cell_type": "code",
   "execution_count": 33,
   "metadata": {},
   "outputs": [],
   "source": [
    "from sklearn.preprocessing import PolynomialFeatures # For creating PolyNomial Features\n",
    "from sklearn.pipeline import Pipeline # For creating Pipeline, How to performe tasks in line."
   ]
  },
  {
   "cell_type": "code",
   "execution_count": 84,
   "metadata": {},
   "outputs": [],
   "source": [
    "poly = PolynomialFeatures(degree = 2) # Creating object with Ploynomial degree 2.\n",
    "lr = LogisticRegression(penalty='l1') "
   ]
  },
  {
   "cell_type": "code",
   "execution_count": 85,
   "metadata": {},
   "outputs": [
    {
     "data": {
      "text/plain": [
       "Pipeline(memory=None,\n",
       "     steps=[('polynomial_features', PolynomialFeatures(degree=2, include_bias=True, interaction_only=False)), ('logistic_regression', LogisticRegression(C=1.0, class_weight=None, dual=False, fit_intercept=True,\n",
       "          intercept_scaling=1, max_iter=100, multi_class='ovr', n_jobs=1,\n",
       "          penalty='l1', random_state=None, solver='liblinear', tol=0.0001,\n",
       "          verbose=0, warm_start=False))])"
      ]
     },
     "execution_count": 85,
     "metadata": {},
     "output_type": "execute_result"
    }
   ],
   "source": [
    "pipe = Pipeline([('polynomial_features',poly), ('logistic_regression',lr)]) # first convert the features in polynomial than apply logistic Regression\n",
    "pipe.fit(X_train, y_train) "
   ]
  },
  {
   "cell_type": "markdown",
   "metadata": {},
   "source": [
    "##### Confusion Matrix"
   ]
  },
  {
   "cell_type": "code",
   "execution_count": 86,
   "metadata": {},
   "outputs": [
    {
     "data": {
      "image/png": "[encoded data removed]",
      "text/plain": [
       "<Figure size 432x288 with 1 Axes>"
      ]
     },
     "metadata": {
      "needs_background": "light"
     },
     "output_type": "display_data"
    }
   ],
   "source": [
    "pred=pipe.predict(X_test)\n",
    "cm = confusion_matrix(y_test,pred)\n",
    "fig, ax = plot_confusion_matrix(conf_mat=cm,cmap='coolwarm')\n",
    "plt.show()"
   ]
  },
  {
   "cell_type": "markdown",
   "metadata": {},
   "source": [
    "##### F Score"
   ]
  },
  {
   "cell_type": "code",
   "execution_count": 87,
   "metadata": {},
   "outputs": [
    {
     "name": "stdout",
     "output_type": "stream",
     "text": [
      "F-Score: 0.890\n"
     ]
    }
   ],
   "source": [
    "# calculate score\n",
    "score = fbeta_score(y_test, pred, average='weighted', beta=0.5)\n",
    "print('F-Score: %.3f' % score)"
   ]
  },
  {
   "cell_type": "markdown",
   "metadata": {},
   "source": [
    "It's look's like our F-Score is inreases which is better than from previous results. But We predict Most of Customer's as they don't buy caravan mobile home insurance but in actual they buy mobile home insurance."
   ]
  },
  {
   "cell_type": "markdown",
   "metadata": {},
   "source": [
    "##### ROC Curve"
   ]
  },
  {
   "cell_type": "code",
   "execution_count": 88,
   "metadata": {},
   "outputs": [],
   "source": [
    "probs = pipe.predict_proba(X_test) \n",
    "preds = probs[:,1]\n",
    "fpr, tpr, threshold = roc_curve(y_test, preds)\n",
    "roc_auc = auc(fpr, tpr)"
   ]
  },
  {
   "cell_type": "code",
   "execution_count": 89,
   "metadata": {},
   "outputs": [
    {
     "data": {
      "image/png": "[encoded data removed]",
      "text/plain": [
       "<Figure size 432x288 with 1 Axes>"
      ]
     },
     "metadata": {
      "needs_background": "light"
     },
     "output_type": "display_data"
    }
   ],
   "source": [
    "plt.figure()\n",
    "plt.plot(fpr, tpr,label='Logistic Regression with Polynomial (area = {:.3f})'.format(roc_auc))\n",
    "plt.plot([0, 1], [0, 1],'r--')\n",
    "plt.xlabel('False Positive Rate')\n",
    "plt.ylabel('True Positive Rate')\n",
    "plt.title('Receiver operating characteristic')\n",
    "plt.legend(loc=\"lower right\")\n",
    "plt.savefig('Log_ROC')\n",
    "plt.show()"
   ]
  },
  {
   "cell_type": "markdown",
   "metadata": {},
   "source": [
    "Area under the curve of previous model is better than from this curve so previous model is better from this model in term of ROC Curve."
   ]
  },
  {
   "cell_type": "markdown",
   "metadata": {},
   "source": [
    "## Random Forest Classifier"
   ]
  },
  {
   "cell_type": "code",
   "execution_count": 31,
   "metadata": {},
   "outputs": [],
   "source": [
    "from sklearn.preprocessing import MinMaxScaler # For pre_processing\n",
    "from sklearn.decomposition import PCA # for feature reduction\n",
    "from sklearn.ensemble import RandomForestClassifier"
   ]
  },
  {
   "cell_type": "code",
   "execution_count": 35,
   "metadata": {},
   "outputs": [],
   "source": [
    "pipe = Pipeline([(\"scaler\", MinMaxScaler(feature_range = (0,1))),(\"pca\",PCA()), (\"classifier\", RandomForestClassifier())])\n",
    "# first apply min-max scaling then extract the important features and them apply RandomForestClassifier"
   ]
  },
  {
   "cell_type": "code",
   "execution_count": 36,
   "metadata": {},
   "outputs": [],
   "source": [
    "param_grid = {'classifier__n_estimators':list(range(10,101,10))}"
   ]
  },
  {
   "cell_type": "code",
   "execution_count": 37,
   "metadata": {},
   "outputs": [
    {
     "data": {
      "text/plain": [
       "GridSearchCV(cv=5, error_score='raise',\n",
       "       estimator=Pipeline(memory=None,\n",
       "     steps=[('scaler', MinMaxScaler(copy=True, feature_range=(0, 1))), ('pca', PCA(copy=True, iterated_power='auto', n_components=None, random_state=None,\n",
       "  svd_solver='auto', tol=0.0, whiten=False)), ('classifier', RandomForestClassifier(bootstrap=True, class_weight=None, criterion='gini',\n",
       "            m...n_jobs=1,\n",
       "            oob_score=False, random_state=None, verbose=0,\n",
       "            warm_start=False))]),\n",
       "       fit_params=None, iid=True, n_jobs=1,\n",
       "       param_grid={'classifier__n_estimators': [10, 20, 30, 40, 50, 60, 70, 80, 90, 100]},\n",
       "       pre_dispatch='2*n_jobs', refit=True, return_train_score='warn',\n",
       "       scoring=None, verbose=0)"
      ]
     },
     "execution_count": 37,
     "metadata": {},
     "output_type": "execute_result"
    }
   ],
   "source": [
    "grid = GridSearchCV(pipe, param_grid=param_grid, cv=5)\n",
    "grid.fit(X_train, y_train)"
   ]
  },
  {
   "cell_type": "markdown",
   "metadata": {},
   "source": [
    "##### Let's Check the Best Parameters We find"
   ]
  },
  {
   "cell_type": "code",
   "execution_count": 38,
   "metadata": {},
   "outputs": [
    {
     "name": "stdout",
     "output_type": "stream",
     "text": [
      "{'classifier__n_estimators': 70}\n",
      "0.9902663934426229\n"
     ]
    }
   ],
   "source": [
    "print(grid.best_params_)\n",
    "print(grid.best_score_)"
   ]
  },
  {
   "cell_type": "markdown",
   "metadata": {},
   "source": [
    "##### Confusion matrix"
   ]
  },
  {
   "cell_type": "code",
   "execution_count": 39,
   "metadata": {},
   "outputs": [
    {
     "data": {
      "image/png": "[encoded data removed]",
      "text/plain": [
       "<Figure size 432x288 with 1 Axes>"
      ]
     },
     "metadata": {
      "needs_background": "light"
     },
     "output_type": "display_data"
    }
   ],
   "source": [
    "pred=grid.predict(X_test) # predict Results\n",
    "cm = confusion_matrix(y_test,pred) # get confusion matrix \n",
    "fig, ax = plot_confusion_matrix(conf_mat=cm,cmap='coolwarm')\n",
    "plt.show()"
   ]
  },
  {
   "cell_type": "markdown",
   "metadata": {},
   "source": [
    "##### F Score"
   ]
  },
  {
   "cell_type": "code",
   "execution_count": 40,
   "metadata": {},
   "outputs": [
    {
     "name": "stdout",
     "output_type": "stream",
     "text": [
      "F-Score: 0.903\n"
     ]
    }
   ],
   "source": [
    "# calculate score\n",
    "score = fbeta_score(y_test, pred, average='weighted', beta=0.5)\n",
    "print('F-Score: %.3f' % score)"
   ]
  },
  {
   "cell_type": "markdown",
   "metadata": {},
   "source": [
    "F Score Of this model is greater from other's models but we predicted many class 1 samples wrong."
   ]
  },
  {
   "cell_type": "markdown",
   "metadata": {},
   "source": [
    "### ROC Curve"
   ]
  },
  {
   "cell_type": "code",
   "execution_count": 41,
   "metadata": {},
   "outputs": [],
   "source": [
    "probs = grid.predict_proba(X_test) # Predict Probabilities of classes\n",
    "preds = probs[:,1] # get positive results mean 1\n",
    "fpr, tpr, threshold = roc_curve(y_test, preds)\n",
    "roc_auc = auc(fpr, tpr)"
   ]
  },
  {
   "cell_type": "code",
   "execution_count": 42,
   "metadata": {},
   "outputs": [
    {
     "data": {
      "image/png": "[encoded data removed]",
      "text/plain": [
       "<Figure size 432x288 with 1 Axes>"
      ]
     },
     "metadata": {
      "needs_background": "light"
     },
     "output_type": "display_data"
    }
   ],
   "source": [
    "plt.figure()\n",
    "plt.plot(fpr, tpr,label=' (area = {:.3f})'.format(roc_auc))\n",
    "plt.plot([0, 1], [0, 1],'r--')\n",
    "plt.xlabel('False Positive Rate')\n",
    "plt.ylabel('True Positive Rate')\n",
    "plt.title('Receiver operating characteristic')\n",
    "plt.legend(loc=\"lower right\")\n",
    "plt.savefig('Log_ROC')\n",
    "plt.show()"
   ]
  },
  {
   "cell_type": "markdown",
   "metadata": {},
   "source": [
    "Area under the curve is less than from first First Model so This model is not good in term of ROC Curve."
   ]
  },
  {
   "cell_type": "markdown",
   "metadata": {},
   "source": [
    "## Explainabl Model "
   ]
  },
  {
   "cell_type": "markdown",
   "metadata": {},
   "source": [
    "We will try to build a model with less number of features which is nearly as good as our best model.\n",
    "\n",
    "For Model we will use Logistic Regression model"
   ]
  },
  {
   "cell_type": "markdown",
   "metadata": {},
   "source": [
    "We are using 10 Important Features and check how our model is perform\n",
    "\n",
    "1) Customer Subtype 2) High level education 3) Rented house 4) Home owners 5) Contribution car policies 6) Contribution fire policies 7) Number of car policies 8) Lower level education 9) Income < 30.000 10) Contribution boat policies"
   ]
  },
  {
   "cell_type": "code",
   "execution_count": 85,
   "metadata": {},
   "outputs": [],
   "source": [
    "top_10 = X_train[0:,[46,0,29,36,30,15,17,60,58,67]] # this is array so we have to slice important features"
   ]
  },
  {
   "cell_type": "code",
   "execution_count": 86,
   "metadata": {},
   "outputs": [],
   "source": [
    "lr = LogisticRegression(penalty='l2') # creating object"
   ]
  },
  {
   "cell_type": "code",
   "execution_count": 87,
   "metadata": {},
   "outputs": [
    {
     "data": {
      "text/plain": [
       "LogisticRegression(C=1.0, class_weight=None, dual=False, fit_intercept=True,\n",
       "          intercept_scaling=1, max_iter=100, multi_class='ovr', n_jobs=1,\n",
       "          penalty='l2', random_state=None, solver='liblinear', tol=0.0001,\n",
       "          verbose=0, warm_start=False)"
      ]
     },
     "execution_count": 87,
     "metadata": {},
     "output_type": "execute_result"
    }
   ],
   "source": [
    "lr.fit(top_10,y_train)"
   ]
  },
  {
   "cell_type": "markdown",
   "metadata": {},
   "source": [
    "#### Coefficients"
   ]
  },
  {
   "cell_type": "code",
   "execution_count": 88,
   "metadata": {},
   "outputs": [
    {
     "data": {
      "text/plain": [
       "array([[ 0.20641857, -0.00348387, -0.26992117, -0.08912925, -0.22630144,\n",
       "         0.05613645, -0.08287657,  0.64172162,  0.10719878,  0.06347325]])"
      ]
     },
     "execution_count": 88,
     "metadata": {},
     "output_type": "execute_result"
    }
   ],
   "source": [
    "lr.coef_"
   ]
  },
  {
   "cell_type": "markdown",
   "metadata": {},
   "source": [
    "#### Confusion matrix"
   ]
  },
  {
   "cell_type": "code",
   "execution_count": 89,
   "metadata": {},
   "outputs": [
    {
     "data": {
      "image/png": "[encoded data removed]",
      "text/plain": [
       "<Figure size 432x288 with 1 Axes>"
      ]
     },
     "metadata": {
      "needs_background": "light"
     },
     "output_type": "display_data"
    }
   ],
   "source": [
    "pred=lr.predict(X_test[[46,0,29,36,30,15,17,60,58,67]]) # predict Results\n",
    "cm = confusion_matrix(y_test,pred) # get confusion matrix \n",
    "fig, ax = plot_confusion_matrix(conf_mat=cm,cmap='coolwarm')\n",
    "plt.show()"
   ]
  },
  {
   "cell_type": "markdown",
   "metadata": {},
   "source": [
    "#### F Score"
   ]
  },
  {
   "cell_type": "code",
   "execution_count": 90,
   "metadata": {},
   "outputs": [
    {
     "name": "stdout",
     "output_type": "stream",
     "text": [
      "F-Score: 0.838\n"
     ]
    }
   ],
   "source": [
    "# calculate score\n",
    "score = fbeta_score(y_test, pred, average='weighted', beta=0.5)\n",
    "print('F-Score: %.3f' % score)"
   ]
  },
  {
   "cell_type": "markdown",
   "metadata": {},
   "source": [
    " F-Score is Nearly equall to all the model's we have use And also False positive rate is less from all other models."
   ]
  },
  {
   "cell_type": "markdown",
   "metadata": {},
   "source": [
    "### ROC Curve"
   ]
  },
  {
   "cell_type": "code",
   "execution_count": 124,
   "metadata": {},
   "outputs": [],
   "source": [
    "probs = lr.predict_proba(X_test[[46,0,29,36,30,15,17,60,58,67]]) # Predict Probabilities of classes\n",
    "preds = probs[:,1] # get probabilies of class 1\n",
    "fpr, tpr, threshold = roc_curve(y_test, preds)\n",
    "roc_auc = auc(fpr, tpr)"
   ]
  },
  {
   "cell_type": "code",
   "execution_count": 125,
   "metadata": {},
   "outputs": [
    {
     "data": {
      "image/png": "[encoded data removed]",
      "text/plain": [
       "<Figure size 432x288 with 1 Axes>"
      ]
     },
     "metadata": {
      "needs_background": "light"
     },
     "output_type": "display_data"
    }
   ],
   "source": [
    "plt.figure()\n",
    "plt.plot(fpr, tpr,label='Logistic Regression (area = {:.3f})'.format(roc_auc))\n",
    "plt.plot([0, 1], [0, 1],'r--')\n",
    "plt.xlabel('False Positive Rate')\n",
    "plt.ylabel('True Positive Rate')\n",
    "plt.title('Receiver operating characteristic')\n",
    "plt.legend(loc=\"lower right\")\n",
    "plt.savefig('Log_ROC')\n",
    "plt.show()"
   ]
  },
  {
   "cell_type": "markdown",
   "metadata": {},
   "source": [
    "ROC is curve is less than from 1st model but it is greater than all other models. So we can say that this model nearly as good as our best model."
   ]
  },
  {
   "cell_type": "markdown",
   "metadata": {},
   "source": [
    "### Decision Tree Model"
   ]
  },
  {
   "cell_type": "code",
   "execution_count": 104,
   "metadata": {},
   "outputs": [],
   "source": [
    "from sklearn.tree import DecisionTreeClassifier, export_graphviz\n",
    "import os\n"
   ]
  },
  {
   "cell_type": "markdown",
   "metadata": {},
   "source": [
    "Features We are using are\n",
    "\n",
    "46) Contribution car policies 36) Income < 30.000  53) Contribution moped policies \n",
    "58) Contribution fire policies 17) Lower level education 60) Contribution boat policies\n",
    "9) Married 22) Skilled labourers 30) Home owners 15) High level education\n",
    "\n",
    "These are indexes names."
   ]
  },
  {
   "cell_type": "code",
   "execution_count": 98,
   "metadata": {},
   "outputs": [],
   "source": [
    "top_10 = X_train[0:,[46,36,53,58,17,60,9,22,30,15]]"
   ]
  },
  {
   "cell_type": "code",
   "execution_count": 115,
   "metadata": {},
   "outputs": [],
   "source": [
    "clf = DecisionTreeClassifier(max_depth=10,max_leaf_nodes=10)"
   ]
  },
  {
   "cell_type": "code",
   "execution_count": 116,
   "metadata": {},
   "outputs": [
    {
     "data": {
      "text/plain": [
       "DecisionTreeClassifier(class_weight=None, criterion='gini', max_depth=10,\n",
       "            max_features=None, max_leaf_nodes=10,\n",
       "            min_impurity_decrease=0.0, min_impurity_split=None,\n",
       "            min_samples_leaf=1, min_samples_split=2,\n",
       "            min_weight_fraction_leaf=0.0, presort=False, random_state=None,\n",
       "            splitter='best')"
      ]
     },
     "execution_count": 116,
     "metadata": {},
     "output_type": "execute_result"
    }
   ],
   "source": [
    "clf.fit(top_10,y_train)"
   ]
  },
  {
   "cell_type": "markdown",
   "metadata": {},
   "source": [
    "#### Confusion matrix"
   ]
  },
  {
   "cell_type": "code",
   "execution_count": 117,
   "metadata": {},
   "outputs": [
    {
     "data": {
      "image/png": "[encoded data removed]",
      "text/plain": [
       "<Figure size 432x288 with 1 Axes>"
      ]
     },
     "metadata": {
      "needs_background": "light"
     },
     "output_type": "display_data"
    }
   ],
   "source": [
    "pred=clf.predict(X_test[[46,36,53,58,17,60,9,22,30,15]]) # predict Results\n",
    "cm = confusion_matrix(y_test,pred) # get confusion matrix \n",
    "fig, ax = plot_confusion_matrix(conf_mat=cm,cmap='coolwarm')\n",
    "plt.show()"
   ]
  },
  {
   "cell_type": "markdown",
   "metadata": {},
   "source": [
    "#### F Score"
   ]
  },
  {
   "cell_type": "code",
   "execution_count": 118,
   "metadata": {},
   "outputs": [
    {
     "name": "stdout",
     "output_type": "stream",
     "text": [
      "F-Score: 0.847\n"
     ]
    }
   ],
   "source": [
    "# calculate score\n",
    "score = fbeta_score(y_test, pred, average='weighted', beta=0.5)\n",
    "print('F-Score: %.3f' % score)"
   ]
  },
  {
   "cell_type": "markdown",
   "metadata": {},
   "source": [
    "### ROC Curve"
   ]
  },
  {
   "cell_type": "code",
   "execution_count": 127,
   "metadata": {},
   "outputs": [],
   "source": [
    "probs = clf.predict_proba(X_test[[46,0,29,36,30,15,17,60,58,67]]) # Predict Probabilities of classes\n",
    "preds = probs[:,1] # get probabilies of class 1\n",
    "fpr, tpr, threshold = roc_curve(y_test, preds)\n",
    "roc_auc = auc(fpr, tpr)"
   ]
  },
  {
   "cell_type": "code",
   "execution_count": 129,
   "metadata": {},
   "outputs": [
    {
     "data": {
      "image/png": "[encoded data removed]",
      "text/plain": [
       "<Figure size 432x288 with 1 Axes>"
      ]
     },
     "metadata": {
      "needs_background": "light"
     },
     "output_type": "display_data"
    }
   ],
   "source": [
    "plt.figure()\n",
    "plt.plot(fpr, tpr,label='Decision Tree (area = {:.3f})'.format(roc_auc))\n",
    "plt.plot([0, 1], [0, 1],'r--')\n",
    "plt.xlabel('False Positive Rate')\n",
    "plt.ylabel('True Positive Rate')\n",
    "plt.title('Receiver operating characteristic')\n",
    "plt.legend(loc=\"lower right\")\n",
    "plt.savefig('Log_ROC')\n",
    "plt.show()"
   ]
  },
  {
   "cell_type": "markdown",
   "metadata": {},
   "source": [
    "### Let's See Our Tree:"
   ]
  },
  {
   "cell_type": "code",
   "execution_count": 119,
   "metadata": {},
   "outputs": [],
   "source": [
    "name_columns = [ 'Contribution car policies','Income < 30.000','Contribution moped policies','Contribution fire policies','Lower level education','Contribution boat policies','Married','Skilled labourers','Home owners','High level education']"
   ]
  },
  {
   "cell_type": "code",
   "execution_count": 120,
   "metadata": {},
   "outputs": [],
   "source": [
    "\n",
    "# Export a tree from the forest\n",
    "dot_data =export_graphviz(clf,\n",
    "                feature_names=name_columns,\n",
    "                filled=True, rounded=True,\n",
    "                class_names = ['0', '1'],\n",
    "                out_file=None)"
   ]
  },
  {
   "cell_type": "code",
   "execution_count": 122,
   "metadata": {},
   "outputs": [
    {
     "data": {
      "image/svg+xml": [
       "<?xml version=\"1.0\" encoding=\"UTF-8\" standalone=\"no\"?>\r\n",
       "<!DOCTYPE svg PUBLIC \"-//W3C//DTD SVG 1.1//EN\"\r\n",
       " \"http://www.w3.org/Graphics/SVG/1.1/DTD/svg11.dtd\">\r\n",
       "<!-- Generated by graphviz version 2.38.0 (20140413.2041)\r\n",
       " -->\r\n",
       "<!-- Title: Tree Pages: 1 -->\r\n",
       "<svg width=\"1078pt\" height=\"671pt\"\r\n",
       " viewBox=\"0.00 0.00 1077.50 671.00\" xmlns=\"http://www.w3.org/2000/svg\" xmlns:xlink=\"http://www.w3.org/1999/xlink\">\r\n",
       "<g id=\"graph0\" class=\"graph\" transform=\"scale(1 1) rotate(0) translate(4 667)\">\r\n",
       "<title>Tree</title>\r\n",
       "<polygon fill=\"white\" stroke=\"none\" points=\"-4,4 -4,-667 1073.5,-667 1073.5,4 -4,4\"/>\r\n",
       "<!-- 0 -->\r\n",
       "<g id=\"node1\" class=\"node\"><title>0</title>\r\n",
       "<path fill=\"none\" stroke=\"black\" d=\"M559,-663C559,-663 371,-663 371,-663 365,-663 359,-657 359,-651 359,-651 359,-592 359,-592 359,-586 365,-580 371,-580 371,-580 559,-580 559,-580 565,-580 571,-586 571,-592 571,-592 571,-651 571,-651 571,-657 565,-663 559,-663\"/>\r\n",
       "<text text-anchor=\"middle\" x=\"465\" y=\"-647.8\" font-family=\"Helvetica,sans-Serif\" font-size=\"14.00\">Contribution car policies &lt;= 5.5</text>\r\n",
       "<text text-anchor=\"middle\" x=\"465\" y=\"-632.8\" font-family=\"Helvetica,sans-Serif\" font-size=\"14.00\">gini = 0.5</text>\r\n",
       "<text text-anchor=\"middle\" x=\"465\" y=\"-617.8\" font-family=\"Helvetica,sans-Serif\" font-size=\"14.00\">samples = 9760</text>\r\n",
       "<text text-anchor=\"middle\" x=\"465\" y=\"-602.8\" font-family=\"Helvetica,sans-Serif\" font-size=\"14.00\">value = [4880, 4880]</text>\r\n",
       "<text text-anchor=\"middle\" x=\"465\" y=\"-587.8\" font-family=\"Helvetica,sans-Serif\" font-size=\"14.00\">class = 0</text>\r\n",
       "</g>\r\n",
       "<!-- 1 -->\r\n",
       "<g id=\"node2\" class=\"node\"><title>1</title>\r\n",
       "<path fill=\"#e58139\" fill-opacity=\"0.588235\" stroke=\"black\" d=\"M433,-544C433,-544 287,-544 287,-544 281,-544 275,-538 275,-532 275,-532 275,-473 275,-473 275,-467 281,-461 287,-461 287,-461 433,-461 433,-461 439,-461 445,-467 445,-473 445,-473 445,-532 445,-532 445,-538 439,-544 433,-544\"/>\r\n",
       "<text text-anchor=\"middle\" x=\"360\" y=\"-528.8\" font-family=\"Helvetica,sans-Serif\" font-size=\"14.00\">Income &lt; 30.000 &lt;= 2.5</text>\r\n",
       "<text text-anchor=\"middle\" x=\"360\" y=\"-513.8\" font-family=\"Helvetica,sans-Serif\" font-size=\"14.00\">gini = 0.413</text>\r\n",
       "<text text-anchor=\"middle\" x=\"360\" y=\"-498.8\" font-family=\"Helvetica,sans-Serif\" font-size=\"14.00\">samples = 4262</text>\r\n",
       "<text text-anchor=\"middle\" x=\"360\" y=\"-483.8\" font-family=\"Helvetica,sans-Serif\" font-size=\"14.00\">value = [3022, 1240]</text>\r\n",
       "<text text-anchor=\"middle\" x=\"360\" y=\"-468.8\" font-family=\"Helvetica,sans-Serif\" font-size=\"14.00\">class = 0</text>\r\n",
       "</g>\r\n",
       "<!-- 0&#45;&gt;1 -->\r\n",
       "<g id=\"edge1\" class=\"edge\"><title>0&#45;&gt;1</title>\r\n",
       "<path fill=\"none\" stroke=\"black\" d=\"M428.571,-579.907C420.345,-570.742 411.537,-560.927 403.067,-551.489\"/>\r\n",
       "<polygon fill=\"black\" stroke=\"black\" points=\"405.649,-549.126 396.365,-544.021 400.439,-553.801 405.649,-549.126\"/>\r\n",
       "<text text-anchor=\"middle\" x=\"395.015\" y=\"-565.284\" font-family=\"Helvetica,sans-Serif\" font-size=\"14.00\">True</text>\r\n",
       "</g>\r\n",
       "<!-- 2 -->\r\n",
       "<g id=\"node7\" class=\"node\"><title>2</title>\r\n",
       "<path fill=\"#399de5\" fill-opacity=\"0.490196\" stroke=\"black\" d=\"M664.5,-544C664.5,-544 475.5,-544 475.5,-544 469.5,-544 463.5,-538 463.5,-532 463.5,-532 463.5,-473 463.5,-473 463.5,-467 469.5,-461 475.5,-461 475.5,-461 664.5,-461 664.5,-461 670.5,-461 676.5,-467 676.5,-473 676.5,-473 676.5,-532 676.5,-532 676.5,-538 670.5,-544 664.5,-544\"/>\r\n",
       "<text text-anchor=\"middle\" x=\"570\" y=\"-528.8\" font-family=\"Helvetica,sans-Serif\" font-size=\"14.00\">Contribution fire policies &lt;= 2.5</text>\r\n",
       "<text text-anchor=\"middle\" x=\"570\" y=\"-513.8\" font-family=\"Helvetica,sans-Serif\" font-size=\"14.00\">gini = 0.447</text>\r\n",
       "<text text-anchor=\"middle\" x=\"570\" y=\"-498.8\" font-family=\"Helvetica,sans-Serif\" font-size=\"14.00\">samples = 5498</text>\r\n",
       "<text text-anchor=\"middle\" x=\"570\" y=\"-483.8\" font-family=\"Helvetica,sans-Serif\" font-size=\"14.00\">value = [1858, 3640]</text>\r\n",
       "<text text-anchor=\"middle\" x=\"570\" y=\"-468.8\" font-family=\"Helvetica,sans-Serif\" font-size=\"14.00\">class = 1</text>\r\n",
       "</g>\r\n",
       "<!-- 0&#45;&gt;2 -->\r\n",
       "<g id=\"edge6\" class=\"edge\"><title>0&#45;&gt;2</title>\r\n",
       "<path fill=\"none\" stroke=\"black\" d=\"M501.429,-579.907C509.655,-570.742 518.463,-560.927 526.933,-551.489\"/>\r\n",
       "<polygon fill=\"black\" stroke=\"black\" points=\"529.561,-553.801 533.635,-544.021 524.351,-549.126 529.561,-553.801\"/>\r\n",
       "<text text-anchor=\"middle\" x=\"534.985\" y=\"-565.284\" font-family=\"Helvetica,sans-Serif\" font-size=\"14.00\">False</text>\r\n",
       "</g>\r\n",
       "<!-- 3 -->\r\n",
       "<g id=\"node3\" class=\"node\"><title>3</title>\r\n",
       "<path fill=\"#e58139\" fill-opacity=\"0.364706\" stroke=\"black\" d=\"M275,-425C275,-425 61,-425 61,-425 55,-425 49,-419 49,-413 49,-413 49,-354 49,-354 49,-348 55,-342 61,-342 61,-342 275,-342 275,-342 281,-342 287,-348 287,-354 287,-354 287,-413 287,-413 287,-419 281,-425 275,-425\"/>\r\n",
       "<text text-anchor=\"middle\" x=\"168\" y=\"-409.8\" font-family=\"Helvetica,sans-Serif\" font-size=\"14.00\">Contribution moped policies &lt;= 1.0</text>\r\n",
       "<text text-anchor=\"middle\" x=\"168\" y=\"-394.8\" font-family=\"Helvetica,sans-Serif\" font-size=\"14.00\">gini = 0.475</text>\r\n",
       "<text text-anchor=\"middle\" x=\"168\" y=\"-379.8\" font-family=\"Helvetica,sans-Serif\" font-size=\"14.00\">samples = 2407</text>\r\n",
       "<text text-anchor=\"middle\" x=\"168\" y=\"-364.8\" font-family=\"Helvetica,sans-Serif\" font-size=\"14.00\">value = [1473, 934]</text>\r\n",
       "<text text-anchor=\"middle\" x=\"168\" y=\"-349.8\" font-family=\"Helvetica,sans-Serif\" font-size=\"14.00\">class = 0</text>\r\n",
       "</g>\r\n",
       "<!-- 1&#45;&gt;3 -->\r\n",
       "<g id=\"edge2\" class=\"edge\"><title>1&#45;&gt;3</title>\r\n",
       "<path fill=\"none\" stroke=\"black\" d=\"M293.387,-460.907C277.154,-451.016 259.68,-440.368 243.084,-430.254\"/>\r\n",
       "<polygon fill=\"black\" stroke=\"black\" points=\"244.856,-427.236 234.496,-425.021 241.214,-433.213 244.856,-427.236\"/>\r\n",
       "</g>\r\n",
       "<!-- 4 -->\r\n",
       "<g id=\"node6\" class=\"node\"><title>4</title>\r\n",
       "<path fill=\"#e58139\" fill-opacity=\"0.803922\" stroke=\"black\" d=\"M431,-417.5C431,-417.5 317,-417.5 317,-417.5 311,-417.5 305,-411.5 305,-405.5 305,-405.5 305,-361.5 305,-361.5 305,-355.5 311,-349.5 317,-349.5 317,-349.5 431,-349.5 431,-349.5 437,-349.5 443,-355.5 443,-361.5 443,-361.5 443,-405.5 443,-405.5 443,-411.5 437,-417.5 431,-417.5\"/>\r\n",
       "<text text-anchor=\"middle\" x=\"374\" y=\"-402.3\" font-family=\"Helvetica,sans-Serif\" font-size=\"14.00\">gini = 0.275</text>\r\n",
       "<text text-anchor=\"middle\" x=\"374\" y=\"-387.3\" font-family=\"Helvetica,sans-Serif\" font-size=\"14.00\">samples = 1855</text>\r\n",
       "<text text-anchor=\"middle\" x=\"374\" y=\"-372.3\" font-family=\"Helvetica,sans-Serif\" font-size=\"14.00\">value = [1549, 306]</text>\r\n",
       "<text text-anchor=\"middle\" x=\"374\" y=\"-357.3\" font-family=\"Helvetica,sans-Serif\" font-size=\"14.00\">class = 0</text>\r\n",
       "</g>\r\n",
       "<!-- 1&#45;&gt;4 -->\r\n",
       "<g id=\"edge5\" class=\"edge\"><title>1&#45;&gt;4</title>\r\n",
       "<path fill=\"none\" stroke=\"black\" d=\"M364.857,-460.907C366.138,-450.204 367.525,-438.615 368.822,-427.776\"/>\r\n",
       "<polygon fill=\"black\" stroke=\"black\" points=\"372.318,-428.012 370.031,-417.667 365.368,-427.18 372.318,-428.012\"/>\r\n",
       "</g>\r\n",
       "<!-- 11 -->\r\n",
       "<g id=\"node4\" class=\"node\"><title>11</title>\r\n",
       "<path fill=\"#e58139\" fill-opacity=\"0.290196\" stroke=\"black\" d=\"M126,-298.5C126,-298.5 12,-298.5 12,-298.5 6,-298.5 0,-292.5 0,-286.5 0,-286.5 0,-242.5 0,-242.5 0,-236.5 6,-230.5 12,-230.5 12,-230.5 126,-230.5 126,-230.5 132,-230.5 138,-236.5 138,-242.5 138,-242.5 138,-286.5 138,-286.5 138,-292.5 132,-298.5 126,-298.5\"/>\r\n",
       "<text text-anchor=\"middle\" x=\"69\" y=\"-283.3\" font-family=\"Helvetica,sans-Serif\" font-size=\"14.00\">gini = 0.486</text>\r\n",
       "<text text-anchor=\"middle\" x=\"69\" y=\"-268.3\" font-family=\"Helvetica,sans-Serif\" font-size=\"14.00\">samples = 2247</text>\r\n",
       "<text text-anchor=\"middle\" x=\"69\" y=\"-253.3\" font-family=\"Helvetica,sans-Serif\" font-size=\"14.00\">value = [1313, 934]</text>\r\n",
       "<text text-anchor=\"middle\" x=\"69\" y=\"-238.3\" font-family=\"Helvetica,sans-Serif\" font-size=\"14.00\">class = 0</text>\r\n",
       "</g>\r\n",
       "<!-- 3&#45;&gt;11 -->\r\n",
       "<g id=\"edge3\" class=\"edge\"><title>3&#45;&gt;11</title>\r\n",
       "<path fill=\"none\" stroke=\"black\" d=\"M133.652,-341.907C123.942,-330.432 113.371,-317.938 103.643,-306.442\"/>\r\n",
       "<polygon fill=\"black\" stroke=\"black\" points=\"106.196,-304.04 97.0643,-298.667 100.852,-308.562 106.196,-304.04\"/>\r\n",
       "</g>\r\n",
       "<!-- 12 -->\r\n",
       "<g id=\"node5\" class=\"node\"><title>12</title>\r\n",
       "<path fill=\"#e58139\" stroke=\"black\" d=\"M257.5,-298.5C257.5,-298.5 168.5,-298.5 168.5,-298.5 162.5,-298.5 156.5,-292.5 156.5,-286.5 156.5,-286.5 156.5,-242.5 156.5,-242.5 156.5,-236.5 162.5,-230.5 168.5,-230.5 168.5,-230.5 257.5,-230.5 257.5,-230.5 263.5,-230.5 269.5,-236.5 269.5,-242.5 269.5,-242.5 269.5,-286.5 269.5,-286.5 269.5,-292.5 263.5,-298.5 257.5,-298.5\"/>\r\n",
       "<text text-anchor=\"middle\" x=\"213\" y=\"-283.3\" font-family=\"Helvetica,sans-Serif\" font-size=\"14.00\">gini = 0.0</text>\r\n",
       "<text text-anchor=\"middle\" x=\"213\" y=\"-268.3\" font-family=\"Helvetica,sans-Serif\" font-size=\"14.00\">samples = 160</text>\r\n",
       "<text text-anchor=\"middle\" x=\"213\" y=\"-253.3\" font-family=\"Helvetica,sans-Serif\" font-size=\"14.00\">value = [160, 0]</text>\r\n",
       "<text text-anchor=\"middle\" x=\"213\" y=\"-238.3\" font-family=\"Helvetica,sans-Serif\" font-size=\"14.00\">class = 0</text>\r\n",
       "</g>\r\n",
       "<!-- 3&#45;&gt;12 -->\r\n",
       "<g id=\"edge4\" class=\"edge\"><title>3&#45;&gt;12</title>\r\n",
       "<path fill=\"none\" stroke=\"black\" d=\"M183.613,-341.907C187.814,-330.983 192.37,-319.137 196.613,-308.107\"/>\r\n",
       "<polygon fill=\"black\" stroke=\"black\" points=\"199.92,-309.257 200.243,-298.667 193.387,-306.744 199.92,-309.257\"/>\r\n",
       "</g>\r\n",
       "<!-- 5 -->\r\n",
       "<g id=\"node8\" class=\"node\"><title>5</title>\r\n",
       "<path fill=\"#399de5\" fill-opacity=\"0.121569\" stroke=\"black\" d=\"M614,-425C614,-425 500,-425 500,-425 494,-425 488,-419 488,-413 488,-413 488,-354 488,-354 488,-348 494,-342 500,-342 500,-342 614,-342 614,-342 620,-342 626,-348 626,-354 626,-354 626,-413 626,-413 626,-419 620,-425 614,-425\"/>\r\n",
       "<text text-anchor=\"middle\" x=\"557\" y=\"-409.8\" font-family=\"Helvetica,sans-Serif\" font-size=\"14.00\">Married &lt;= 4.5</text>\r\n",
       "<text text-anchor=\"middle\" x=\"557\" y=\"-394.8\" font-family=\"Helvetica,sans-Serif\" font-size=\"14.00\">gini = 0.498</text>\r\n",
       "<text text-anchor=\"middle\" x=\"557\" y=\"-379.8\" font-family=\"Helvetica,sans-Serif\" font-size=\"14.00\">samples = 1930</text>\r\n",
       "<text text-anchor=\"middle\" x=\"557\" y=\"-364.8\" font-family=\"Helvetica,sans-Serif\" font-size=\"14.00\">value = [903, 1027]</text>\r\n",
       "<text text-anchor=\"middle\" x=\"557\" y=\"-349.8\" font-family=\"Helvetica,sans-Serif\" font-size=\"14.00\">class = 1</text>\r\n",
       "</g>\r\n",
       "<!-- 2&#45;&gt;5 -->\r\n",
       "<g id=\"edge7\" class=\"edge\"><title>2&#45;&gt;5</title>\r\n",
       "<path fill=\"none\" stroke=\"black\" d=\"M565.49,-460.907C564.562,-452.558 563.575,-443.671 562.613,-435.02\"/>\r\n",
       "<polygon fill=\"black\" stroke=\"black\" points=\"566.085,-434.573 561.502,-425.021 559.128,-435.346 566.085,-434.573\"/>\r\n",
       "</g>\r\n",
       "<!-- 6 -->\r\n",
       "<g id=\"node15\" class=\"node\"><title>6</title>\r\n",
       "<path fill=\"#399de5\" fill-opacity=\"0.635294\" stroke=\"black\" d=\"M842,-425C842,-425 668,-425 668,-425 662,-425 656,-419 656,-413 656,-413 656,-354 656,-354 656,-348 662,-342 668,-342 668,-342 842,-342 842,-342 848,-342 854,-348 854,-354 854,-354 854,-413 854,-413 854,-419 848,-425 842,-425\"/>\r\n",
       "<text text-anchor=\"middle\" x=\"755\" y=\"-409.8\" font-family=\"Helvetica,sans-Serif\" font-size=\"14.00\">Lower level education &lt;= 5.5</text>\r\n",
       "<text text-anchor=\"middle\" x=\"755\" y=\"-394.8\" font-family=\"Helvetica,sans-Serif\" font-size=\"14.00\">gini = 0.392</text>\r\n",
       "<text text-anchor=\"middle\" x=\"755\" y=\"-379.8\" font-family=\"Helvetica,sans-Serif\" font-size=\"14.00\">samples = 3568</text>\r\n",
       "<text text-anchor=\"middle\" x=\"755\" y=\"-364.8\" font-family=\"Helvetica,sans-Serif\" font-size=\"14.00\">value = [955, 2613]</text>\r\n",
       "<text text-anchor=\"middle\" x=\"755\" y=\"-349.8\" font-family=\"Helvetica,sans-Serif\" font-size=\"14.00\">class = 1</text>\r\n",
       "</g>\r\n",
       "<!-- 2&#45;&gt;6 -->\r\n",
       "<g id=\"edge14\" class=\"edge\"><title>2&#45;&gt;6</title>\r\n",
       "<path fill=\"none\" stroke=\"black\" d=\"M634.185,-460.907C649.682,-451.106 666.353,-440.563 682.213,-430.533\"/>\r\n",
       "<polygon fill=\"black\" stroke=\"black\" points=\"684.348,-433.324 690.929,-425.021 680.606,-427.408 684.348,-433.324\"/>\r\n",
       "</g>\r\n",
       "<!-- 9 -->\r\n",
       "<g id=\"node9\" class=\"node\"><title>9</title>\r\n",
       "<path fill=\"#e58139\" fill-opacity=\"0.796078\" stroke=\"black\" d=\"M416,-298.5C416,-298.5 318,-298.5 318,-298.5 312,-298.5 306,-292.5 306,-286.5 306,-286.5 306,-242.5 306,-242.5 306,-236.5 312,-230.5 318,-230.5 318,-230.5 416,-230.5 416,-230.5 422,-230.5 428,-236.5 428,-242.5 428,-242.5 428,-286.5 428,-286.5 428,-292.5 422,-298.5 416,-298.5\"/>\r\n",
       "<text text-anchor=\"middle\" x=\"367\" y=\"-283.3\" font-family=\"Helvetica,sans-Serif\" font-size=\"14.00\">gini = 0.282</text>\r\n",
       "<text text-anchor=\"middle\" x=\"367\" y=\"-268.3\" font-family=\"Helvetica,sans-Serif\" font-size=\"14.00\">samples = 206</text>\r\n",
       "<text text-anchor=\"middle\" x=\"367\" y=\"-253.3\" font-family=\"Helvetica,sans-Serif\" font-size=\"14.00\">value = [171, 35]</text>\r\n",
       "<text text-anchor=\"middle\" x=\"367\" y=\"-238.3\" font-family=\"Helvetica,sans-Serif\" font-size=\"14.00\">class = 0</text>\r\n",
       "</g>\r\n",
       "<!-- 5&#45;&gt;9 -->\r\n",
       "<g id=\"edge8\" class=\"edge\"><title>5&#45;&gt;9</title>\r\n",
       "<path fill=\"none\" stroke=\"black\" d=\"M491.08,-341.907C471.1,-329.604 449.221,-316.131 429.474,-303.971\"/>\r\n",
       "<polygon fill=\"black\" stroke=\"black\" points=\"431.211,-300.93 420.861,-298.667 427.541,-306.891 431.211,-300.93\"/>\r\n",
       "</g>\r\n",
       "<!-- 10 -->\r\n",
       "<g id=\"node10\" class=\"node\"><title>10</title>\r\n",
       "<path fill=\"#399de5\" fill-opacity=\"0.262745\" stroke=\"black\" d=\"M655.5,-306C655.5,-306 458.5,-306 458.5,-306 452.5,-306 446.5,-300 446.5,-294 446.5,-294 446.5,-235 446.5,-235 446.5,-229 452.5,-223 458.5,-223 458.5,-223 655.5,-223 655.5,-223 661.5,-223 667.5,-229 667.5,-235 667.5,-235 667.5,-294 667.5,-294 667.5,-300 661.5,-306 655.5,-306\"/>\r\n",
       "<text text-anchor=\"middle\" x=\"557\" y=\"-290.8\" font-family=\"Helvetica,sans-Serif\" font-size=\"14.00\">Contribution boat policies &lt;= 0.5</text>\r\n",
       "<text text-anchor=\"middle\" x=\"557\" y=\"-275.8\" font-family=\"Helvetica,sans-Serif\" font-size=\"14.00\">gini = 0.489</text>\r\n",
       "<text text-anchor=\"middle\" x=\"557\" y=\"-260.8\" font-family=\"Helvetica,sans-Serif\" font-size=\"14.00\">samples = 1724</text>\r\n",
       "<text text-anchor=\"middle\" x=\"557\" y=\"-245.8\" font-family=\"Helvetica,sans-Serif\" font-size=\"14.00\">value = [732, 992]</text>\r\n",
       "<text text-anchor=\"middle\" x=\"557\" y=\"-230.8\" font-family=\"Helvetica,sans-Serif\" font-size=\"14.00\">class = 1</text>\r\n",
       "</g>\r\n",
       "<!-- 5&#45;&gt;10 -->\r\n",
       "<g id=\"edge9\" class=\"edge\"><title>5&#45;&gt;10</title>\r\n",
       "<path fill=\"none\" stroke=\"black\" d=\"M557,-341.907C557,-333.649 557,-324.864 557,-316.302\"/>\r\n",
       "<polygon fill=\"black\" stroke=\"black\" points=\"560.5,-316.021 557,-306.021 553.5,-316.021 560.5,-316.021\"/>\r\n",
       "</g>\r\n",
       "<!-- 15 -->\r\n",
       "<g id=\"node11\" class=\"node\"><title>15</title>\r\n",
       "<path fill=\"#399de5\" fill-opacity=\"0.196078\" stroke=\"black\" d=\"M552,-187C552,-187 406,-187 406,-187 400,-187 394,-181 394,-175 394,-175 394,-116 394,-116 394,-110 400,-104 406,-104 406,-104 552,-104 552,-104 558,-104 564,-110 564,-116 564,-116 564,-175 564,-175 564,-181 558,-187 552,-187\"/>\r\n",
       "<text text-anchor=\"middle\" x=\"479\" y=\"-171.8\" font-family=\"Helvetica,sans-Serif\" font-size=\"14.00\">Income &lt; 30.000 &lt;= 4.5</text>\r\n",
       "<text text-anchor=\"middle\" x=\"479\" y=\"-156.8\" font-family=\"Helvetica,sans-Serif\" font-size=\"14.00\">gini = 0.494</text>\r\n",
       "<text text-anchor=\"middle\" x=\"479\" y=\"-141.8\" font-family=\"Helvetica,sans-Serif\" font-size=\"14.00\">samples = 1636</text>\r\n",
       "<text text-anchor=\"middle\" x=\"479\" y=\"-126.8\" font-family=\"Helvetica,sans-Serif\" font-size=\"14.00\">value = [730, 906]</text>\r\n",
       "<text text-anchor=\"middle\" x=\"479\" y=\"-111.8\" font-family=\"Helvetica,sans-Serif\" font-size=\"14.00\">class = 1</text>\r\n",
       "</g>\r\n",
       "<!-- 10&#45;&gt;15 -->\r\n",
       "<g id=\"edge10\" class=\"edge\"><title>10&#45;&gt;15</title>\r\n",
       "<path fill=\"none\" stroke=\"black\" d=\"M529.938,-222.907C524.07,-214.105 517.802,-204.703 511.741,-195.612\"/>\r\n",
       "<polygon fill=\"black\" stroke=\"black\" points=\"514.473,-193.4 506.014,-187.021 508.649,-197.283 514.473,-193.4\"/>\r\n",
       "</g>\r\n",
       "<!-- 16 -->\r\n",
       "<g id=\"node14\" class=\"node\"><title>16</title>\r\n",
       "<path fill=\"#399de5\" fill-opacity=\"0.976471\" stroke=\"black\" d=\"M675.5,-179.5C675.5,-179.5 594.5,-179.5 594.5,-179.5 588.5,-179.5 582.5,-173.5 582.5,-167.5 582.5,-167.5 582.5,-123.5 582.5,-123.5 582.5,-117.5 588.5,-111.5 594.5,-111.5 594.5,-111.5 675.5,-111.5 675.5,-111.5 681.5,-111.5 687.5,-117.5 687.5,-123.5 687.5,-123.5 687.5,-167.5 687.5,-167.5 687.5,-173.5 681.5,-179.5 675.5,-179.5\"/>\r\n",
       "<text text-anchor=\"middle\" x=\"635\" y=\"-164.3\" font-family=\"Helvetica,sans-Serif\" font-size=\"14.00\">gini = 0.044</text>\r\n",
       "<text text-anchor=\"middle\" x=\"635\" y=\"-149.3\" font-family=\"Helvetica,sans-Serif\" font-size=\"14.00\">samples = 88</text>\r\n",
       "<text text-anchor=\"middle\" x=\"635\" y=\"-134.3\" font-family=\"Helvetica,sans-Serif\" font-size=\"14.00\">value = [2, 86]</text>\r\n",
       "<text text-anchor=\"middle\" x=\"635\" y=\"-119.3\" font-family=\"Helvetica,sans-Serif\" font-size=\"14.00\">class = 1</text>\r\n",
       "</g>\r\n",
       "<!-- 10&#45;&gt;16 -->\r\n",
       "<g id=\"edge13\" class=\"edge\"><title>10&#45;&gt;16</title>\r\n",
       "<path fill=\"none\" stroke=\"black\" d=\"M584.062,-222.907C591.565,-211.652 599.721,-199.418 607.263,-188.106\"/>\r\n",
       "<polygon fill=\"black\" stroke=\"black\" points=\"610.254,-189.929 612.889,-179.667 604.429,-186.046 610.254,-189.929\"/>\r\n",
       "</g>\r\n",
       "<!-- 17 -->\r\n",
       "<g id=\"node12\" class=\"node\"><title>17</title>\r\n",
       "<path fill=\"#399de5\" fill-opacity=\"0.286275\" stroke=\"black\" d=\"M460,-68C460,-68 354,-68 354,-68 348,-68 342,-62 342,-56 342,-56 342,-12 342,-12 342,-6 348,-0 354,-0 354,-0 460,-0 460,-0 466,-0 472,-6 472,-12 472,-12 472,-56 472,-56 472,-62 466,-68 460,-68\"/>\r\n",
       "<text text-anchor=\"middle\" x=\"407\" y=\"-52.8\" font-family=\"Helvetica,sans-Serif\" font-size=\"14.00\">gini = 0.486</text>\r\n",
       "<text text-anchor=\"middle\" x=\"407\" y=\"-37.8\" font-family=\"Helvetica,sans-Serif\" font-size=\"14.00\">samples = 1491</text>\r\n",
       "<text text-anchor=\"middle\" x=\"407\" y=\"-22.8\" font-family=\"Helvetica,sans-Serif\" font-size=\"14.00\">value = [620, 871]</text>\r\n",
       "<text text-anchor=\"middle\" x=\"407\" y=\"-7.8\" font-family=\"Helvetica,sans-Serif\" font-size=\"14.00\">class = 1</text>\r\n",
       "</g>\r\n",
       "<!-- 15&#45;&gt;17 -->\r\n",
       "<g id=\"edge11\" class=\"edge\"><title>15&#45;&gt;17</title>\r\n",
       "<path fill=\"none\" stroke=\"black\" d=\"M452.19,-103.726C446.432,-94.9703 440.339,-85.7032 434.554,-76.9051\"/>\r\n",
       "<polygon fill=\"black\" stroke=\"black\" points=\"437.314,-74.7322 428.896,-68.2996 431.465,-78.5781 437.314,-74.7322\"/>\r\n",
       "</g>\r\n",
       "<!-- 18 -->\r\n",
       "<g id=\"node13\" class=\"node\"><title>18</title>\r\n",
       "<path fill=\"#e58139\" fill-opacity=\"0.682353\" stroke=\"black\" d=\"M600,-68C600,-68 502,-68 502,-68 496,-68 490,-62 490,-56 490,-56 490,-12 490,-12 490,-6 496,-0 502,-0 502,-0 600,-0 600,-0 606,-0 612,-6 612,-12 612,-12 612,-56 612,-56 612,-62 606,-68 600,-68\"/>\r\n",
       "<text text-anchor=\"middle\" x=\"551\" y=\"-52.8\" font-family=\"Helvetica,sans-Serif\" font-size=\"14.00\">gini = 0.366</text>\r\n",
       "<text text-anchor=\"middle\" x=\"551\" y=\"-37.8\" font-family=\"Helvetica,sans-Serif\" font-size=\"14.00\">samples = 145</text>\r\n",
       "<text text-anchor=\"middle\" x=\"551\" y=\"-22.8\" font-family=\"Helvetica,sans-Serif\" font-size=\"14.00\">value = [110, 35]</text>\r\n",
       "<text text-anchor=\"middle\" x=\"551\" y=\"-7.8\" font-family=\"Helvetica,sans-Serif\" font-size=\"14.00\">class = 0</text>\r\n",
       "</g>\r\n",
       "<!-- 15&#45;&gt;18 -->\r\n",
       "<g id=\"edge12\" class=\"edge\"><title>15&#45;&gt;18</title>\r\n",
       "<path fill=\"none\" stroke=\"black\" d=\"M505.81,-103.726C511.568,-94.9703 517.661,-85.7032 523.446,-76.9051\"/>\r\n",
       "<polygon fill=\"black\" stroke=\"black\" points=\"526.535,-78.5781 529.104,-68.2996 520.686,-74.7322 526.535,-78.5781\"/>\r\n",
       "</g>\r\n",
       "<!-- 7 -->\r\n",
       "<g id=\"node16\" class=\"node\"><title>7</title>\r\n",
       "<path fill=\"#399de5\" fill-opacity=\"0.721569\" stroke=\"black\" d=\"M812,-298.5C812,-298.5 698,-298.5 698,-298.5 692,-298.5 686,-292.5 686,-286.5 686,-286.5 686,-242.5 686,-242.5 686,-236.5 692,-230.5 698,-230.5 698,-230.5 812,-230.5 812,-230.5 818,-230.5 824,-236.5 824,-242.5 824,-242.5 824,-286.5 824,-286.5 824,-292.5 818,-298.5 812,-298.5\"/>\r\n",
       "<text text-anchor=\"middle\" x=\"755\" y=\"-283.3\" font-family=\"Helvetica,sans-Serif\" font-size=\"14.00\">gini = 0.341</text>\r\n",
       "<text text-anchor=\"middle\" x=\"755\" y=\"-268.3\" font-family=\"Helvetica,sans-Serif\" font-size=\"14.00\">samples = 2811</text>\r\n",
       "<text text-anchor=\"middle\" x=\"755\" y=\"-253.3\" font-family=\"Helvetica,sans-Serif\" font-size=\"14.00\">value = [612, 2199]</text>\r\n",
       "<text text-anchor=\"middle\" x=\"755\" y=\"-238.3\" font-family=\"Helvetica,sans-Serif\" font-size=\"14.00\">class = 1</text>\r\n",
       "</g>\r\n",
       "<!-- 6&#45;&gt;7 -->\r\n",
       "<g id=\"edge15\" class=\"edge\"><title>6&#45;&gt;7</title>\r\n",
       "<path fill=\"none\" stroke=\"black\" d=\"M755,-341.907C755,-331.204 755,-319.615 755,-308.776\"/>\r\n",
       "<polygon fill=\"black\" stroke=\"black\" points=\"758.5,-308.667 755,-298.667 751.5,-308.667 758.5,-308.667\"/>\r\n",
       "</g>\r\n",
       "<!-- 8 -->\r\n",
       "<g id=\"node17\" class=\"node\"><title>8</title>\r\n",
       "<path fill=\"#399de5\" fill-opacity=\"0.172549\" stroke=\"black\" d=\"M1043.5,-306C1043.5,-306 854.5,-306 854.5,-306 848.5,-306 842.5,-300 842.5,-294 842.5,-294 842.5,-235 842.5,-235 842.5,-229 848.5,-223 854.5,-223 854.5,-223 1043.5,-223 1043.5,-223 1049.5,-223 1055.5,-229 1055.5,-235 1055.5,-235 1055.5,-294 1055.5,-294 1055.5,-300 1049.5,-306 1043.5,-306\"/>\r\n",
       "<text text-anchor=\"middle\" x=\"949\" y=\"-290.8\" font-family=\"Helvetica,sans-Serif\" font-size=\"14.00\">Contribution fire policies &lt;= 4.5</text>\r\n",
       "<text text-anchor=\"middle\" x=\"949\" y=\"-275.8\" font-family=\"Helvetica,sans-Serif\" font-size=\"14.00\">gini = 0.496</text>\r\n",
       "<text text-anchor=\"middle\" x=\"949\" y=\"-260.8\" font-family=\"Helvetica,sans-Serif\" font-size=\"14.00\">samples = 757</text>\r\n",
       "<text text-anchor=\"middle\" x=\"949\" y=\"-245.8\" font-family=\"Helvetica,sans-Serif\" font-size=\"14.00\">value = [343, 414]</text>\r\n",
       "<text text-anchor=\"middle\" x=\"949\" y=\"-230.8\" font-family=\"Helvetica,sans-Serif\" font-size=\"14.00\">class = 1</text>\r\n",
       "</g>\r\n",
       "<!-- 6&#45;&gt;8 -->\r\n",
       "<g id=\"edge16\" class=\"edge\"><title>6&#45;&gt;8</title>\r\n",
       "<path fill=\"none\" stroke=\"black\" d=\"M822.307,-341.907C838.709,-332.016 856.365,-321.368 873.134,-311.254\"/>\r\n",
       "<polygon fill=\"black\" stroke=\"black\" points=\"875.056,-314.182 881.812,-306.021 871.441,-308.188 875.056,-314.182\"/>\r\n",
       "</g>\r\n",
       "<!-- 13 -->\r\n",
       "<g id=\"node18\" class=\"node\"><title>13</title>\r\n",
       "<path fill=\"#399de5\" fill-opacity=\"0.305882\" stroke=\"black\" d=\"M934,-179.5C934,-179.5 828,-179.5 828,-179.5 822,-179.5 816,-173.5 816,-167.5 816,-167.5 816,-123.5 816,-123.5 816,-117.5 822,-111.5 828,-111.5 828,-111.5 934,-111.5 934,-111.5 940,-111.5 946,-117.5 946,-123.5 946,-123.5 946,-167.5 946,-167.5 946,-173.5 940,-179.5 934,-179.5\"/>\r\n",
       "<text text-anchor=\"middle\" x=\"881\" y=\"-164.3\" font-family=\"Helvetica,sans-Serif\" font-size=\"14.00\">gini = 0.484</text>\r\n",
       "<text text-anchor=\"middle\" x=\"881\" y=\"-149.3\" font-family=\"Helvetica,sans-Serif\" font-size=\"14.00\">samples = 691</text>\r\n",
       "<text text-anchor=\"middle\" x=\"881\" y=\"-134.3\" font-family=\"Helvetica,sans-Serif\" font-size=\"14.00\">value = [283, 408]</text>\r\n",
       "<text text-anchor=\"middle\" x=\"881\" y=\"-119.3\" font-family=\"Helvetica,sans-Serif\" font-size=\"14.00\">class = 1</text>\r\n",
       "</g>\r\n",
       "<!-- 8&#45;&gt;13 -->\r\n",
       "<g id=\"edge17\" class=\"edge\"><title>8&#45;&gt;13</title>\r\n",
       "<path fill=\"none\" stroke=\"black\" d=\"M925.408,-222.907C918.93,-211.763 911.895,-199.658 905.375,-188.439\"/>\r\n",
       "<polygon fill=\"black\" stroke=\"black\" points=\"908.328,-186.554 900.277,-179.667 902.275,-190.072 908.328,-186.554\"/>\r\n",
       "</g>\r\n",
       "<!-- 14 -->\r\n",
       "<g id=\"node19\" class=\"node\"><title>14</title>\r\n",
       "<path fill=\"#e58139\" fill-opacity=\"0.901961\" stroke=\"black\" d=\"M1057.5,-179.5C1057.5,-179.5 976.5,-179.5 976.5,-179.5 970.5,-179.5 964.5,-173.5 964.5,-167.5 964.5,-167.5 964.5,-123.5 964.5,-123.5 964.5,-117.5 970.5,-111.5 976.5,-111.5 976.5,-111.5 1057.5,-111.5 1057.5,-111.5 1063.5,-111.5 1069.5,-117.5 1069.5,-123.5 1069.5,-123.5 1069.5,-167.5 1069.5,-167.5 1069.5,-173.5 1063.5,-179.5 1057.5,-179.5\"/>\r\n",
       "<text text-anchor=\"middle\" x=\"1017\" y=\"-164.3\" font-family=\"Helvetica,sans-Serif\" font-size=\"14.00\">gini = 0.165</text>\r\n",
       "<text text-anchor=\"middle\" x=\"1017\" y=\"-149.3\" font-family=\"Helvetica,sans-Serif\" font-size=\"14.00\">samples = 66</text>\r\n",
       "<text text-anchor=\"middle\" x=\"1017\" y=\"-134.3\" font-family=\"Helvetica,sans-Serif\" font-size=\"14.00\">value = [60, 6]</text>\r\n",
       "<text text-anchor=\"middle\" x=\"1017\" y=\"-119.3\" font-family=\"Helvetica,sans-Serif\" font-size=\"14.00\">class = 0</text>\r\n",
       "</g>\r\n",
       "<!-- 8&#45;&gt;14 -->\r\n",
       "<g id=\"edge18\" class=\"edge\"><title>8&#45;&gt;14</title>\r\n",
       "<path fill=\"none\" stroke=\"black\" d=\"M972.592,-222.907C979.07,-211.763 986.105,-199.658 992.625,-188.439\"/>\r\n",
       "<polygon fill=\"black\" stroke=\"black\" points=\"995.725,-190.072 997.723,-179.667 989.672,-186.554 995.725,-190.072\"/>\r\n",
       "</g>\r\n",
       "</g>\r\n",
       "</svg>\r\n"
      ],
      "text/plain": [
       "<graphviz.files.Source at 0x2e96846ad48>"
      ]
     },
     "execution_count": 122,
     "metadata": {},
     "output_type": "execute_result"
    }
   ],
   "source": [
    "os.environ[\"PATH\"] += os.pathsep + 'C:/Program Files (x86)/Graphviz2.38/bin'\n",
    "graph = graphviz.Source(dot_data)\n",
    "graph.render(\"Decision Tree\")\n",
    "graph "
   ]
  },
  {
   "cell_type": "code",
   "execution_count": null,
   "metadata": {},
   "outputs": [],
   "source": []
  }
 ],
 "metadata": {
  "kernelspec": {
   "display_name": "Python 3",
   "language": "python",
   "name": "python3"
  },
  "language_info": {
   "codemirror_mode": {
    "name": "ipython",
    "version": 3
   },
   "file_extension": ".py",
   "mimetype": "text/x-python",
   "name": "python",
   "nbconvert_exporter": "python",
   "pygments_lexer": "ipython3",
   "version": "3.7.6"
  }
 },
 "nbformat": 4,
 "nbformat_minor": 2
}
